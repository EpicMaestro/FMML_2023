{
  "nbformat": 4,
  "nbformat_minor": 0,
  "metadata": {
    "colab": {
      "provenance": []
    },
    "kernelspec": {
      "name": "python3",
      "display_name": "Python 3"
    },
    "language_info": {
      "name": "python"
    }
  },
  "cells": [
    {
      "cell_type": "code",
      "execution_count": 2,
      "metadata": {
        "id": "AhRs3JhM8H3X"
      },
      "outputs": [],
      "source": [
        "import matplotlib.pyplot as plt\n",
        "import numpy as np\n",
        "from sklearn import datasets\n",
        "rng = np.random.default_rng(seed=42)"
      ]
    },
    {
      "cell_type": "code",
      "source": [
        " dataset =  datasets.fetch_california_housing()"
      ],
      "metadata": {
        "id": "r5HRG18QC_tK"
      },
      "execution_count": 3,
      "outputs": []
    },
    {
      "cell_type": "markdown",
      "source": [
        "ONE-NEAREST NEIGHBOURS ALGORITHM"
      ],
      "metadata": {
        "id": "ISi09uquD1i4"
      }
    },
    {
      "cell_type": "code",
      "source": [
        "def NN1(traindata, trainlabel, query):\n",
        "  diff  = traindata - query  # find the difference between features. Numpy automatically takes care of the size here\n",
        "  sq = diff*diff # square the differences\n",
        "  dist = sq.sum(1) # add up the squares\n",
        "  label = trainlabel[np.argmin(dist)] # our predicted label is the label of the training data which has the least distance from the query\n",
        "  return label\n",
        "\n",
        "def NN(traindata, trainlabel, testdata):\n",
        "  # we will run nearest neighbour for each sample in the test data and collect the predicted classes in an array using list comprehension\n",
        "  predlabel = np.array([NN1(traindata, trainlabel, i) for i in testdata])\n",
        "  return predlabel"
      ],
      "metadata": {
        "id": "Vnvr7pewDSnb"
      },
      "execution_count": 4,
      "outputs": []
    },
    {
      "cell_type": "markdown",
      "source": [
        "RANDOM CLASSIFIER ALGORITHM"
      ],
      "metadata": {
        "id": "MVAeTaiDEEGV"
      }
    },
    {
      "cell_type": "code",
      "source": [
        "def RandomClassifier(traindata, trainlabel, testdata):\n",
        "  classes = np.unique(trainlabel)\n",
        "  rints = rng.integers(low=0, high=len(classes), size=len(testdata))\n",
        "  predlabel = classes[rints]\n",
        "  print(\"No. of classes are \",len(classes))\n",
        "  return predlabel"
      ],
      "metadata": {
        "id": "2QftaeJ_ETF-"
      },
      "execution_count": 5,
      "outputs": []
    },
    {
      "cell_type": "markdown",
      "source": [
        "ACCURACY FUNCTION: TO CHECK HOW GOOD OUR ALGORITHM"
      ],
      "metadata": {
        "id": "D_JU30BSEttb"
      }
    },
    {
      "cell_type": "code",
      "source": [
        "def Accuracy(gtlabel, predlabel):\n",
        "  assert len(gtlabel)==len(predlabel), \"Length of the groundtruth labels and predicted labels should be the same\"\n",
        "  correct = (gtlabel==predlabel).sum() # count the number of times the groundtruth label is equal to the predicted label.\n",
        "  return correct/len(gtlabel)"
      ],
      "metadata": {
        "id": "TW6Q-vG5EwhM"
      },
      "execution_count": 6,
      "outputs": []
    },
    {
      "cell_type": "markdown",
      "source": [
        "SPLIT FUNCTION:A function to split the dataset with the desired probability."
      ],
      "metadata": {
        "id": "eNV45PWlFBEO"
      }
    },
    {
      "cell_type": "code",
      "source": [
        "def split(data, label, percent):\n",
        "  # generate a random number for each sample\n",
        "  rnd = rng.random(len(label))\n",
        "  split1 = rnd<percent\n",
        "  split2 = rnd>=percent\n",
        "  split1data = data[split1,:]\n",
        "  split1label = label[split1]\n",
        "  split2data = data[split2,:]\n",
        "  split2label = label[split2]\n",
        "  return split1data, split1label, split2data, split2label"
      ],
      "metadata": {
        "id": "HmKat_9HFcCP"
      },
      "execution_count": 7,
      "outputs": []
    },
    {
      "cell_type": "markdown",
      "source": [
        "Reserving 20% of our data for testing"
      ],
      "metadata": {
        "id": "IbVawLXcFnzX"
      }
    },
    {
      "cell_type": "code",
      "source": [
        "testdata, testlabel, alltraindata, alltrainlabel = split(dataset.data, dataset.target, 20/100)\n",
        "print('Number of test samples = ', len(testlabel))\n",
        "print('Number of other samples = ', len(alltrainlabel))\n",
        "print('Percent of test data = ', len(testlabel)*100/len(dataset.target),'%')"
      ],
      "metadata": {
        "colab": {
          "base_uri": "https://localhost:8080/"
        },
        "id": "U1ssWvNBFv1d",
        "outputId": "0bcde8f3-a86a-48d5-841e-6f239efe5d73"
      },
      "execution_count": 8,
      "outputs": [
        {
          "output_type": "stream",
          "name": "stdout",
          "text": [
            "Number of test samples =  4144\n",
            "Number of other samples =  16496\n",
            "Percent of test data =  20.07751937984496 %\n"
          ]
        }
      ]
    },
    {
      "cell_type": "markdown",
      "source": [
        "**EXPERIMENTS WITH SPLITS**"
      ],
      "metadata": {
        "id": "Uv7DxZXv8Yaz"
      }
    },
    {
      "cell_type": "markdown",
      "source": [
        "Q1 How is the accuracy of the validation set affected if we increase the percentage of validation set? What happens when we reduce it?"
      ],
      "metadata": {
        "id": "ezzm78fIJSUf"
      }
    },
    {
      "cell_type": "code",
      "source": [
        "# Reserving n% of our train data as a validation set\n",
        "def solve(n):\n",
        "    traindata, trainlabel, valdata, vallabel = split(alltraindata, alltrainlabel, n/100)\n",
        "    trainpred = NN(traindata, trainlabel, traindata)\n",
        "    trainAccuracy = Accuracy(trainlabel, trainpred)\n",
        "    print(\"Train accuracy using nearest neighbour is \", trainAccuracy)\n",
        "\n",
        "    trainpred = RandomClassifier(traindata, trainlabel, traindata)\n",
        "    trainAccuracy = Accuracy(trainlabel, trainpred)\n",
        "    print(\"Train accuracy using random classifier is \", trainAccuracy)\n",
        "\n",
        "# Predicting the labels for our validation set and get the accuracy\n",
        "\n",
        "    valpred = NN(traindata, trainlabel, valdata)\n",
        "    valAccuracy = Accuracy(vallabel, valpred)\n",
        "    print(\"Validation accuracy using nearest neighbour is \", valAccuracy)\n",
        "\n",
        "    valpred = RandomClassifier(traindata, trainlabel, valdata)\n",
        "    valAccuracy = Accuracy(vallabel, valpred)\n",
        "    print(\"Validation accuracy using random classifier is \", valAccuracy)\n"
      ],
      "metadata": {
        "id": "VmcIVFl7Fa5C"
      },
      "execution_count": 9,
      "outputs": []
    },
    {
      "cell_type": "code",
      "source": [
        "solve(60)"
      ],
      "metadata": {
        "colab": {
          "base_uri": "https://localhost:8080/"
        },
        "id": "XXkCocK58nDP",
        "outputId": "752680c6-1598-4555-a50b-2b06aa9bca29"
      },
      "execution_count": 10,
      "outputs": [
        {
          "output_type": "stream",
          "name": "stdout",
          "text": [
            "Train accuracy using nearest neighbour is  1.0\n",
            "No. of classes are  3195\n",
            "Train accuracy using random classifier is  0.00030385900941962927\n",
            "Validation accuracy using nearest neighbour is  0.008304393779254115\n",
            "No. of classes are  3195\n",
            "Validation accuracy using random classifier is  0.0006039559112184811\n"
          ]
        }
      ]
    },
    {
      "cell_type": "code",
      "source": [
        "solve(65)"
      ],
      "metadata": {
        "colab": {
          "base_uri": "https://localhost:8080/"
        },
        "id": "EDbQ5q34K-2B",
        "outputId": "7e7b96cc-265b-415a-ea26-63926b9a3f7a"
      },
      "execution_count": 11,
      "outputs": [
        {
          "output_type": "stream",
          "name": "stdout",
          "text": [
            "Train accuracy using nearest neighbour is  1.0\n",
            "No. of classes are  3252\n",
            "Train accuracy using random classifier is  0.00037330844610359307\n",
            "Validation accuracy using nearest neighbour is  0.00864902266043937\n",
            "No. of classes are  3252\n",
            "Validation accuracy using random classifier is  0.0001729804532087874\n"
          ]
        }
      ]
    },
    {
      "cell_type": "code",
      "source": [
        "solve(70)"
      ],
      "metadata": {
        "colab": {
          "base_uri": "https://localhost:8080/"
        },
        "id": "Z5t7PsdwQHw4",
        "outputId": "dcee33c2-606a-414a-8110-b77a11199902"
      },
      "execution_count": 12,
      "outputs": [
        {
          "output_type": "stream",
          "name": "stdout",
          "text": [
            "Train accuracy using nearest neighbour is  1.0\n",
            "No. of classes are  3347\n",
            "Train accuracy using random classifier is  0.0004314436103201312\n",
            "Validation accuracy using nearest neighbour is  0.008966782147951905\n",
            "No. of classes are  3347\n",
            "Validation accuracy using random classifier is  0.0002037905033625433\n"
          ]
        }
      ]
    },
    {
      "cell_type": "code",
      "source": [
        "solve(71)"
      ],
      "metadata": {
        "colab": {
          "base_uri": "https://localhost:8080/"
        },
        "id": "Iyls1nJNQScZ",
        "outputId": "10d74584-31c8-4f36-c557-67b4eda52024"
      },
      "execution_count": 13,
      "outputs": [
        {
          "output_type": "stream",
          "name": "stdout",
          "text": [
            "Train accuracy using nearest neighbour is  1.0\n",
            "No. of classes are  3349\n",
            "Train accuracy using random classifier is  0.00025722369887678983\n",
            "Validation accuracy using nearest neighbour is  0.009104076143182288\n",
            "No. of classes are  3349\n",
            "Validation accuracy using random classifier is  0.0002069108214359611\n"
          ]
        }
      ]
    },
    {
      "cell_type": "code",
      "source": [
        "solve(73)"
      ],
      "metadata": {
        "colab": {
          "base_uri": "https://localhost:8080/"
        },
        "id": "AstVCLRRQXDB",
        "outputId": "439c1948-1b2a-4dc6-cca2-3f8ed6acf612"
      },
      "execution_count": 14,
      "outputs": [
        {
          "output_type": "stream",
          "name": "stdout",
          "text": [
            "Train accuracy using nearest neighbour is  1.0\n",
            "No. of classes are  3376\n",
            "Train accuracy using random classifier is  0.0002478110028085247\n",
            "Validation accuracy using nearest neighbour is  0.009567198177676537\n",
            "No. of classes are  3376\n",
            "Validation accuracy using random classifier is  0.00022779043280182233\n"
          ]
        }
      ]
    },
    {
      "cell_type": "code",
      "source": [
        "solve(75)\n"
      ],
      "metadata": {
        "colab": {
          "base_uri": "https://localhost:8080/"
        },
        "id": "vX8OG4WaQa99",
        "outputId": "b1182929-4943-4e51-834a-bea3dd9959e4"
      },
      "execution_count": 15,
      "outputs": [
        {
          "output_type": "stream",
          "name": "stdout",
          "text": [
            "Train accuracy using nearest neighbour is  1.0\n",
            "No. of classes are  3421\n",
            "Train accuracy using random classifier is  0.00016273393002441008\n",
            "Validation accuracy using nearest neighbour is  0.009272467902995721\n",
            "No. of classes are  3421\n",
            "Validation accuracy using random classifier is  0.0\n"
          ]
        }
      ]
    },
    {
      "cell_type": "code",
      "source": [
        "solve(77)"
      ],
      "metadata": {
        "colab": {
          "base_uri": "https://localhost:8080/"
        },
        "id": "CdJuy7QuQcpz",
        "outputId": "f567ab60-803a-43e1-82c5-1948bac74f9d"
      },
      "execution_count": 16,
      "outputs": [
        {
          "output_type": "stream",
          "name": "stdout",
          "text": [
            "Train accuracy using nearest neighbour is  1.0\n",
            "No. of classes are  3422\n",
            "Train accuracy using random classifier is  0.0002363507445048452\n",
            "Validation accuracy using nearest neighbour is  0.011043912700499606\n",
            "No. of classes are  3422\n",
            "Validation accuracy using random classifier is  0.0005259006047856955\n"
          ]
        }
      ]
    },
    {
      "cell_type": "code",
      "source": [
        "solve(79)"
      ],
      "metadata": {
        "colab": {
          "base_uri": "https://localhost:8080/"
        },
        "id": "ivYOD5XjR3tr",
        "outputId": "678c0b39-63c6-4efe-f5de-01f8c78d3e39"
      },
      "execution_count": 17,
      "outputs": [
        {
          "output_type": "stream",
          "name": "stdout",
          "text": [
            "Train accuracy using nearest neighbour is  1.0\n",
            "No. of classes are  3454\n",
            "Train accuracy using random classifier is  7.674008134448623e-05\n",
            "Validation accuracy using nearest neighbour is  0.008658008658008658\n",
            "No. of classes are  3454\n",
            "Validation accuracy using random classifier is  0.0\n"
          ]
        }
      ]
    },
    {
      "cell_type": "code",
      "source": [
        "solve(81)"
      ],
      "metadata": {
        "colab": {
          "base_uri": "https://localhost:8080/"
        },
        "id": "QaP0J92SSNnK",
        "outputId": "62a2d694-43f2-485e-b69c-f36df4c37852"
      },
      "execution_count": 18,
      "outputs": [
        {
          "output_type": "stream",
          "name": "stdout",
          "text": [
            "Train accuracy using nearest neighbour is  1.0\n",
            "No. of classes are  3472\n",
            "Train accuracy using random classifier is  0.00029982759913049995\n",
            "Validation accuracy using nearest neighbour is  0.00919175911251981\n",
            "No. of classes are  3472\n",
            "Validation accuracy using random classifier is  0.0003169572107765452\n"
          ]
        }
      ]
    },
    {
      "cell_type": "code",
      "source": [
        "solve(83)"
      ],
      "metadata": {
        "colab": {
          "base_uri": "https://localhost:8080/"
        },
        "id": "7gC10RlcVr49",
        "outputId": "6bf29ad3-bfc2-4a23-95ec-a486c5f5a3c2"
      },
      "execution_count": 19,
      "outputs": [
        {
          "output_type": "stream",
          "name": "stdout",
          "text": [
            "Train accuracy using nearest neighbour is  1.0\n",
            "No. of classes are  3517\n",
            "Train accuracy using random classifier is  0.0005104645227156713\n",
            "Validation accuracy using nearest neighbour is  0.01006108515989939\n",
            "No. of classes are  3517\n",
            "Validation accuracy using random classifier is  0.00035932446999640676\n"
          ]
        }
      ]
    },
    {
      "cell_type": "code",
      "source": [
        "solve(85)"
      ],
      "metadata": {
        "colab": {
          "base_uri": "https://localhost:8080/"
        },
        "id": "UcyyCK1pTwz6",
        "outputId": "7c564802-e578-4515-c0b4-11d565a174eb"
      },
      "execution_count": 20,
      "outputs": [
        {
          "output_type": "stream",
          "name": "stdout",
          "text": [
            "Train accuracy using nearest neighbour is  1.0\n",
            "No. of classes are  3533\n",
            "Train accuracy using random classifier is  0.0004969826056088036\n",
            "Validation accuracy using nearest neighbour is  0.00829531314807134\n",
            "No. of classes are  3533\n",
            "Validation accuracy using random classifier is  0.00041476565740356696\n"
          ]
        }
      ]
    },
    {
      "cell_type": "code",
      "source": [
        "solve(87)"
      ],
      "metadata": {
        "colab": {
          "base_uri": "https://localhost:8080/"
        },
        "id": "HapBPeVsQe2X",
        "outputId": "18a934b5-2823-4230-ce0e-2556459d2ef3"
      },
      "execution_count": 21,
      "outputs": [
        {
          "output_type": "stream",
          "name": "stdout",
          "text": [
            "Train accuracy using nearest neighbour is  1.0\n",
            "No. of classes are  3540\n",
            "Train accuracy using random classifier is  0.00013867702121758425\n",
            "Validation accuracy using nearest neighbour is  0.00626808100289296\n",
            "No. of classes are  3540\n",
            "Validation accuracy using random classifier is  0.0\n"
          ]
        }
      ]
    },
    {
      "cell_type": "code",
      "source": [
        "solve(89)"
      ],
      "metadata": {
        "colab": {
          "base_uri": "https://localhost:8080/"
        },
        "id": "FL-PVy-YTo8k",
        "outputId": "1aee9fdc-e545-46c3-dabd-f6ecf1640e32"
      },
      "execution_count": 22,
      "outputs": [
        {
          "output_type": "stream",
          "name": "stdout",
          "text": [
            "Train accuracy using nearest neighbour is  1.0\n",
            "No. of classes are  3565\n",
            "Train accuracy using random classifier is  0.0002035002035002035\n",
            "Validation accuracy using nearest neighbour is  0.0068415051311288486\n",
            "No. of classes are  3565\n",
            "Validation accuracy using random classifier is  0.0005701254275940707\n"
          ]
        }
      ]
    },
    {
      "cell_type": "code",
      "source": [
        "solve(90)"
      ],
      "metadata": {
        "colab": {
          "base_uri": "https://localhost:8080/"
        },
        "id": "7EcjSWJAZoDZ",
        "outputId": "f7dffd24-241d-46cb-8241-1aefe7d18a4d"
      },
      "execution_count": 23,
      "outputs": [
        {
          "output_type": "stream",
          "name": "stdout",
          "text": [
            "Train accuracy using nearest neighbour is  1.0\n",
            "No. of classes are  3563\n",
            "Train accuracy using random classifier is  0.0003369045212586753\n",
            "Validation accuracy using nearest neighbour is  0.01027190332326284\n",
            "No. of classes are  3563\n",
            "Validation accuracy using random classifier is  0.0\n"
          ]
        }
      ]
    },
    {
      "cell_type": "code",
      "source": [
        "solve(95)"
      ],
      "metadata": {
        "colab": {
          "base_uri": "https://localhost:8080/"
        },
        "id": "yMo0SV6AT_dp",
        "outputId": "4ff9b731-d6c4-4f5f-819b-a6fc89cce1ee"
      },
      "execution_count": 24,
      "outputs": [
        {
          "output_type": "stream",
          "name": "stdout",
          "text": [
            "Train accuracy using nearest neighbour is  1.0\n",
            "No. of classes are  3614\n",
            "Train accuracy using random classifier is  0.00038299502106472615\n",
            "Validation accuracy using nearest neighbour is  0.016867469879518072\n",
            "No. of classes are  3614\n",
            "Validation accuracy using random classifier is  0.0012048192771084338\n"
          ]
        }
      ]
    },
    {
      "cell_type": "code",
      "source": [
        "solve(99)"
      ],
      "metadata": {
        "colab": {
          "base_uri": "https://localhost:8080/"
        },
        "id": "2plHLWUqVRLD",
        "outputId": "e907c1e6-d7e5-4dd2-8fbe-0b9952210df8"
      },
      "execution_count": 25,
      "outputs": [
        {
          "output_type": "stream",
          "name": "stdout",
          "text": [
            "Train accuracy using nearest neighbour is  1.0\n",
            "No. of classes are  3650\n",
            "Train accuracy using random classifier is  0.0005508630187293427\n",
            "Validation accuracy using nearest neighbour is  0.006329113924050633\n",
            "No. of classes are  3650\n",
            "Validation accuracy using random classifier is  0.0\n"
          ]
        }
      ]
    },
    {
      "cell_type": "code",
      "source": [],
      "metadata": {
        "id": "P7SEPHaIYxLi"
      },
      "execution_count": 25,
      "outputs": []
    },
    {
      "cell_type": "markdown",
      "source": [
        "ANS : a) Validation accuracy of 1- Nearest Neighbours is highest around the 75% mark . It decreases gradually below it. However the behaviour above 80% seems not too obvious to predict , with the accuracy oscillating during each random split .It increases drastically around 99%.    \n",
        " b) For random classifiers the value increases as we increase percentage of validation set.However, the accuracy remains lower than one nearest neighbour."
      ],
      "metadata": {
        "id": "xemZmTs7Vk3Z"
      }
    },
    {
      "cell_type": "markdown",
      "source": [
        "Q2)How does the size of the train and validation set affect how well we can predict the accuracy on the test set using the validation set?\n",
        "\n"
      ],
      "metadata": {
        "id": "QcdV_rQGbYDp"
      }
    },
    {
      "cell_type": "code",
      "source": [
        "def solve1(l,n):\n",
        "#Reserving l% of our data for testing\n",
        "    testdata, testlabel, alltraindata, alltrainlabel = split(dataset.data, dataset.target, l/100)\n",
        "    print('Number of test samples = ', len(testlabel))\n",
        "    print('Number of other samples = ', len(alltrainlabel))\n",
        "    print('Percent of test data = ', len(testlabel)*100/len(dataset.target),'%')\n",
        "\n",
        " #saving n% of data as validation set\n",
        "    traindata, trainlabel, valdata, vallabel = split(alltraindata, alltrainlabel, n/100)\n",
        "    trainpred = NN(traindata, trainlabel, traindata)\n",
        "    trainAccuracy = Accuracy(trainlabel, trainpred)\n",
        "    print(\"Train accuracy using nearest neighbour is \", trainAccuracy)\n",
        "\n",
        "    trainpred = RandomClassifier(traindata, trainlabel, traindata)\n",
        "    trainAccuracy = Accuracy(trainlabel, trainpred)\n",
        "    print(\"Train accuracy using random classifier is \", trainAccuracy)\n",
        "\n",
        "    # Predicting the labels for our validation set and get the accuracy\n",
        "\n",
        "    valpred = NN(traindata, trainlabel, valdata)\n",
        "    valAccuracy = Accuracy(vallabel, valpred)\n",
        "    print(\"Validation accuracy using nearest neighbour is \", valAccuracy)\n",
        "\n",
        "    valpred = RandomClassifier(traindata, trainlabel, valdata)\n",
        "    valAccuracy = Accuracy(vallabel, valpred)\n",
        "    print(\"Validation accuracy using random classifier is \", valAccuracy)\n",
        "\n"
      ],
      "metadata": {
        "id": "BCuBRYifbll0"
      },
      "execution_count": 26,
      "outputs": []
    },
    {
      "cell_type": "code",
      "source": [
        "solve1(20,75)"
      ],
      "metadata": {
        "colab": {
          "base_uri": "https://localhost:8080/"
        },
        "id": "cbfcSQRTcise",
        "outputId": "8d2c263c-96c9-45fa-fa3c-43b50090b2a8"
      },
      "execution_count": 27,
      "outputs": [
        {
          "output_type": "stream",
          "name": "stdout",
          "text": [
            "Number of test samples =  4127\n",
            "Number of other samples =  16513\n",
            "Percent of test data =  19.99515503875969 %\n",
            "Train accuracy using nearest neighbour is  1.0\n",
            "No. of classes are  3419\n",
            "Train accuracy using random classifier is  0.00024127392633102783\n",
            "Validation accuracy using nearest neighbour is  0.007354743809757294\n",
            "No. of classes are  3419\n",
            "Validation accuracy using random classifier is  0.00024515812699190976\n"
          ]
        }
      ]
    },
    {
      "cell_type": "code",
      "source": [
        "solve1(20,78)"
      ],
      "metadata": {
        "colab": {
          "base_uri": "https://localhost:8080/"
        },
        "id": "Vhl9nd0AcxtG",
        "outputId": "7b5232a7-023b-485e-d788-6261e0181bfc"
      },
      "execution_count": 28,
      "outputs": [
        {
          "output_type": "stream",
          "name": "stdout",
          "text": [
            "Number of test samples =  4277\n",
            "Number of other samples =  16363\n",
            "Percent of test data =  20.7218992248062 %\n",
            "Train accuracy using nearest neighbour is  1.0\n",
            "No. of classes are  3444\n",
            "Train accuracy using random classifier is  0.0004710315591144607\n",
            "Validation accuracy using nearest neighbour is  0.009931034482758621\n",
            "No. of classes are  3444\n",
            "Validation accuracy using random classifier is  0.0008275862068965517\n"
          ]
        }
      ]
    },
    {
      "cell_type": "code",
      "source": [
        "solve1(20,69)"
      ],
      "metadata": {
        "colab": {
          "base_uri": "https://localhost:8080/"
        },
        "id": "fTV_aVbmc1Mz",
        "outputId": "6d517122-13fe-45ca-d2d9-2a167d39d21e"
      },
      "execution_count": 40,
      "outputs": [
        {
          "output_type": "stream",
          "name": "stdout",
          "text": [
            "Number of test samples =  4179\n",
            "Number of other samples =  16461\n",
            "Percent of test data =  20.247093023255815 %\n",
            "Train accuracy using nearest neighbour is  1.0\n",
            "No. of classes are  3330\n",
            "Train accuracy using random classifier is  0.00017542320849048328\n",
            "Validation accuracy using nearest neighbour is  0.008102766798418972\n",
            "No. of classes are  3330\n",
            "Validation accuracy using random classifier is  0.0003952569169960474\n"
          ]
        }
      ]
    },
    {
      "cell_type": "code",
      "source": [
        "solve1(15,75)"
      ],
      "metadata": {
        "colab": {
          "base_uri": "https://localhost:8080/"
        },
        "id": "lT41oxVUc3iX",
        "outputId": "2f4739f1-2667-4ff1-a0dd-72dfb8c98506"
      },
      "execution_count": 30,
      "outputs": [
        {
          "output_type": "stream",
          "name": "stdout",
          "text": [
            "Number of test samples =  3105\n",
            "Number of other samples =  17535\n",
            "Percent of test data =  15.043604651162791 %\n",
            "Train accuracy using nearest neighbour is  1.0\n",
            "No. of classes are  3472\n",
            "Train accuracy using random classifier is  0.00022779043280182233\n",
            "Validation accuracy using nearest neighbour is  0.00870561282932417\n",
            "No. of classes are  3472\n",
            "Validation accuracy using random classifier is  0.0002290950744558992\n"
          ]
        }
      ]
    },
    {
      "cell_type": "code",
      "source": [
        "solve1(15,81)"
      ],
      "metadata": {
        "colab": {
          "base_uri": "https://localhost:8080/"
        },
        "id": "5vVllHDfc8Ny",
        "outputId": "c381c5a5-f4c0-4894-d391-8ea2db512e88"
      },
      "execution_count": 38,
      "outputs": [
        {
          "output_type": "stream",
          "name": "stdout",
          "text": [
            "Number of test samples =  3122\n",
            "Number of other samples =  17518\n",
            "Percent of test data =  15.125968992248062 %\n",
            "Train accuracy using nearest neighbour is  1.0\n",
            "No. of classes are  3530\n",
            "Train accuracy using random classifier is  7.049700387733522e-05\n",
            "Validation accuracy using nearest neighbour is  0.006900690069006901\n",
            "No. of classes are  3530\n",
            "Validation accuracy using random classifier is  0.00030003000300030005\n"
          ]
        }
      ]
    },
    {
      "cell_type": "code",
      "source": [
        "solve1(15,68)"
      ],
      "metadata": {
        "colab": {
          "base_uri": "https://localhost:8080/"
        },
        "id": "FkvIxFlsdDEY",
        "outputId": "b420a3a1-80b4-433d-e8c9-50ac2340ff2f"
      },
      "execution_count": 39,
      "outputs": [
        {
          "output_type": "stream",
          "name": "stdout",
          "text": [
            "Number of test samples =  3079\n",
            "Number of other samples =  17561\n",
            "Percent of test data =  14.917635658914728 %\n",
            "Train accuracy using nearest neighbour is  1.0\n",
            "No. of classes are  3368\n",
            "Train accuracy using random classifier is  0.0004206629648325761\n",
            "Validation accuracy using nearest neighbour is  0.00828193832599119\n",
            "No. of classes are  3368\n",
            "Validation accuracy using random classifier is  0.0001762114537444934\n"
          ]
        }
      ]
    },
    {
      "cell_type": "code",
      "source": [
        "solve1(25,75)"
      ],
      "metadata": {
        "colab": {
          "base_uri": "https://localhost:8080/"
        },
        "id": "JhE7YR-NdHNK",
        "outputId": "80c20884-97a8-4c74-b342-91e1a6cb58e1"
      },
      "execution_count": 33,
      "outputs": [
        {
          "output_type": "stream",
          "name": "stdout",
          "text": [
            "Number of test samples =  5234\n",
            "Number of other samples =  15406\n",
            "Percent of test data =  25.358527131782946 %\n",
            "Train accuracy using nearest neighbour is  1.0\n",
            "No. of classes are  3330\n",
            "Train accuracy using random classifier is  0.00017207261464337952\n",
            "Validation accuracy using nearest neighbour is  0.007401533174729051\n",
            "No. of classes are  3330\n",
            "Validation accuracy using random classifier is  0.000528680941052075\n"
          ]
        }
      ]
    },
    {
      "cell_type": "code",
      "source": [
        "solve1(25,80)"
      ],
      "metadata": {
        "colab": {
          "base_uri": "https://localhost:8080/"
        },
        "id": "3JzG12kddJpw",
        "outputId": "55052d7f-9ea2-44c0-8690-d22dc48e5751"
      },
      "execution_count": 34,
      "outputs": [
        {
          "output_type": "stream",
          "name": "stdout",
          "text": [
            "Number of test samples =  5171\n",
            "Number of other samples =  15469\n",
            "Percent of test data =  25.05329457364341 %\n",
            "Train accuracy using nearest neighbour is  1.0\n",
            "No. of classes are  3405\n",
            "Train accuracy using random classifier is  0.0002439421044072207\n",
            "Validation accuracy using nearest neighbour is  0.005991800693787449\n",
            "No. of classes are  3405\n",
            "Validation accuracy using random classifier is  0.000946073793755913\n"
          ]
        }
      ]
    },
    {
      "cell_type": "code",
      "source": [
        "solve1(25,69)"
      ],
      "metadata": {
        "colab": {
          "base_uri": "https://localhost:8080/"
        },
        "id": "iINS7Cd4dQDX",
        "outputId": "ca52d824-d6b0-4bb1-d8bc-e36d5a5f0b6c"
      },
      "execution_count": 35,
      "outputs": [
        {
          "output_type": "stream",
          "name": "stdout",
          "text": [
            "Number of test samples =  5182\n",
            "Number of other samples =  15458\n",
            "Percent of test data =  25.106589147286822 %\n",
            "Train accuracy using nearest neighbour is  1.0\n",
            "No. of classes are  3286\n",
            "Train accuracy using random classifier is  0.00037604587759706683\n",
            "Validation accuracy using nearest neighbour is  0.01099356979879693\n",
            "No. of classes are  3286\n",
            "Validation accuracy using random classifier is  0.00020742584526031943\n"
          ]
        }
      ]
    },
    {
      "cell_type": "markdown",
      "source": [
        "ANS:    *A*) **Same % data for testing** : For one-Nearest neighbour, the accuracy is lower at 75% validation set reservation .For Random classifier, The accuracy increases as %age validation increases.           \n",
        "    B)**Same % data for validation** :For random Claassifiers , at lower % data allocation for validation , It decreases as we increase the % testing set . However, at higher % validation data allocation , it increases with increase in % testing set. For one nearest neighbours, It is minimum for the intermediate data around 75% .\n"
      ],
      "metadata": {
        "id": "4mxKuNGTsBUp"
      }
    },
    {
      "cell_type": "markdown",
      "source": [
        "Q3) What do you think is a good percentage to reserve for the validation set so that thest two factors are balanced?"
      ],
      "metadata": {
        "id": "AxJc3ZPSxOY0"
      }
    },
    {
      "cell_type": "code",
      "source": [
        "solve1(30,70)"
      ],
      "metadata": {
        "id": "cfy9jrpDsCgG",
        "colab": {
          "base_uri": "https://localhost:8080/"
        },
        "outputId": "ac852566-e4f1-412f-ba6c-202a6dec75c1"
      },
      "execution_count": 41,
      "outputs": [
        {
          "output_type": "stream",
          "name": "stdout",
          "text": [
            "Number of test samples =  6292\n",
            "Number of other samples =  14348\n",
            "Percent of test data =  30.484496124031008 %\n",
            "Train accuracy using nearest neighbour is  1.0\n",
            "No. of classes are  3205\n",
            "Train accuracy using random classifier is  0.00029943108094620223\n",
            "Validation accuracy using nearest neighbour is  0.009009009009009009\n",
            "No. of classes are  3205\n",
            "Validation accuracy using random classifier is  0.0\n"
          ]
        }
      ]
    },
    {
      "cell_type": "code",
      "source": [
        "solve1(25,75)\n"
      ],
      "metadata": {
        "colab": {
          "base_uri": "https://localhost:8080/"
        },
        "id": "sDDuUJbGxaMB",
        "outputId": "868e3500-a394-4874-c843-5942d08e1e95"
      },
      "execution_count": 42,
      "outputs": [
        {
          "output_type": "stream",
          "name": "stdout",
          "text": [
            "Number of test samples =  5102\n",
            "Number of other samples =  15538\n",
            "Percent of test data =  24.718992248062015 %\n",
            "Train accuracy using nearest neighbour is  1.0\n",
            "No. of classes are  3369\n",
            "Train accuracy using random classifier is  0.0005143591941705958\n",
            "Validation accuracy using nearest neighbour is  0.010586108959462949\n",
            "No. of classes are  3369\n",
            "Validation accuracy using random classifier is  0.0010327911179963851\n"
          ]
        }
      ]
    },
    {
      "cell_type": "code",
      "source": [
        "solve1(20,80)"
      ],
      "metadata": {
        "colab": {
          "base_uri": "https://localhost:8080/"
        },
        "id": "ar1Dp5DdxcTk",
        "outputId": "06f9554e-69b7-428b-dee8-cde9d6365a3d"
      },
      "execution_count": 44,
      "outputs": [
        {
          "output_type": "stream",
          "name": "stdout",
          "text": [
            "Number of test samples =  4154\n",
            "Number of other samples =  16486\n",
            "Percent of test data =  20.125968992248062 %\n",
            "Train accuracy using nearest neighbour is  1.0\n",
            "No. of classes are  3496\n",
            "Train accuracy using random classifier is  0.00030289262456459186\n",
            "Validation accuracy using nearest neighbour is  0.01097560975609756\n",
            "No. of classes are  3496\n",
            "Validation accuracy using random classifier is  0.0006097560975609756\n"
          ]
        }
      ]
    },
    {
      "cell_type": "code",
      "source": [
        "solve1(35,65)"
      ],
      "metadata": {
        "colab": {
          "base_uri": "https://localhost:8080/"
        },
        "id": "z1O08ngNxeow",
        "outputId": "b58fe63e-282a-42fa-a1b6-7bd473f42b07"
      },
      "execution_count": 45,
      "outputs": [
        {
          "output_type": "stream",
          "name": "stdout",
          "text": [
            "Number of test samples =  7230\n",
            "Number of other samples =  13410\n",
            "Percent of test data =  35.02906976744186 %\n",
            "Train accuracy using nearest neighbour is  1.0\n",
            "No. of classes are  3058\n",
            "Train accuracy using random classifier is  0.00034403669724770644\n",
            "Validation accuracy using nearest neighbour is  0.008742004264392323\n",
            "No. of classes are  3058\n",
            "Validation accuracy using random classifier is  0.00042643923240938164\n"
          ]
        }
      ]
    },
    {
      "cell_type": "code",
      "source": [
        "solve1(27,73)"
      ],
      "metadata": {
        "colab": {
          "base_uri": "https://localhost:8080/"
        },
        "id": "iz10tDQmxnCm",
        "outputId": "dba74eeb-5064-4de0-b4ff-fdecc204d05e"
      },
      "execution_count": 46,
      "outputs": [
        {
          "output_type": "stream",
          "name": "stdout",
          "text": [
            "Number of test samples =  5462\n",
            "Number of other samples =  15178\n",
            "Percent of test data =  26.463178294573645 %\n",
            "Train accuracy using nearest neighbour is  1.0\n",
            "No. of classes are  3292\n",
            "Train accuracy using random classifier is  0.00027247956403269756\n",
            "Validation accuracy using nearest neighbour is  0.008157389635316698\n",
            "No. of classes are  3292\n",
            "Validation accuracy using random classifier is  0.0004798464491362764\n"
          ]
        }
      ]
    },
    {
      "cell_type": "markdown",
      "source": [
        "Hence , it can be seen that accuracy achieved is optimum when 25% testing data and 75% validation data is used.\n"
      ],
      "metadata": {
        "id": "Pb_lC8q3x6jL"
      }
    },
    {
      "cell_type": "markdown",
      "source": [
        "**MULTIPLE SPLITS**"
      ],
      "metadata": {
        "id": "u3dF3iVYyIbt"
      }
    },
    {
      "cell_type": "markdown",
      "source": [
        "Average of the Nearest Neighbours Algorithm Accuracies"
      ],
      "metadata": {
        "id": "DE-Sk7498JZM"
      }
    },
    {
      "cell_type": "code",
      "source": [
        "def AverageAccuracy(alldata, alllabel, splitpercent, iterations, classifier=NN):\n",
        "  accuracy = 0\n",
        "  for ii in range(iterations):\n",
        "    traindata, trainlabel, valdata, vallabel = split(alldata, alllabel, splitpercent)\n",
        "    valpred = classifier(traindata, trainlabel, valdata)\n",
        "    accuracy += Accuracy(vallabel, valpred)\n",
        "  return accuracy/iterations\n",
        "def solve3(n):\n",
        "  print('Average validation accuracy is ', AverageAccuracy(alltraindata, alltrainlabel,n/100, 10, classifier=NN))\n",
        "  testpred = NN(alltraindata, alltrainlabel, testdata)\n",
        "  print('test accuracy is ',Accuracy(testlabel, testpred) )"
      ],
      "metadata": {
        "id": "91vbMGA-8DiU"
      },
      "execution_count": 48,
      "outputs": []
    },
    {
      "cell_type": "markdown",
      "source": [
        "Average of the Random Classifier Algorithm accuracies"
      ],
      "metadata": {
        "id": "1HNe-L4H8Tfa"
      }
    },
    {
      "cell_type": "code",
      "source": [
        "def AverageAccuracy(alldata, alllabel, splitpercent, iterations, classifier=RandomClassifier):\n",
        "  accuracy = 0\n",
        "  for ii in range(iterations):\n",
        "    traindata, trainlabel, valdata, vallabel = split(alldata, alllabel, splitpercent)\n",
        "    valpred = classifier(traindata, trainlabel, valdata)\n",
        "    accuracy += Accuracy(vallabel, valpred)\n",
        "  return accuracy/iterations\n",
        "def solve4(n):\n",
        "  print('Average validation accuracy is ', AverageAccuracy(alltraindata, alltrainlabel,n/100, 10, classifier=NN))\n",
        "  testpred = RandomClassifier(alltraindata, alltrainlabel, testdata)\n",
        "  print('test accuracy is ',Accuracy(testlabel, testpred) )"
      ],
      "metadata": {
        "id": "kAbj_vKn8DzZ"
      },
      "execution_count": 49,
      "outputs": []
    },
    {
      "cell_type": "markdown",
      "source": [
        "Q1)Does averaging the validation accuracy across multiple splits give more consistent results?"
      ],
      "metadata": {
        "id": "i5OHJXTUyjbd"
      }
    },
    {
      "cell_type": "code",
      "source": [
        "solve3(75)"
      ],
      "metadata": {
        "colab": {
          "base_uri": "https://localhost:8080/"
        },
        "id": "2AKJn_7Zx0LJ",
        "outputId": "9c2b7710-e6de-44fe-acbc-e75a0bc62600"
      },
      "execution_count": 51,
      "outputs": [
        {
          "output_type": "stream",
          "name": "stdout",
          "text": [
            "Average validation accuracy is  0.008087105114826229\n",
            "test accuracy is  0.009893822393822393\n"
          ]
        }
      ]
    },
    {
      "cell_type": "code",
      "source": [
        "solve4(75)"
      ],
      "metadata": {
        "colab": {
          "base_uri": "https://localhost:8080/"
        },
        "id": "oUR7ACV09nJ9",
        "outputId": "c7d29eb4-8713-4434-fb1a-024553e22311"
      },
      "execution_count": 52,
      "outputs": [
        {
          "output_type": "stream",
          "name": "stdout",
          "text": [
            "Average validation accuracy is  0.008742311454647569\n",
            "No. of classes are  3661\n",
            "test accuracy is  0.00048262548262548264\n"
          ]
        }
      ]
    },
    {
      "cell_type": "code",
      "source": [
        "solve3(81)"
      ],
      "metadata": {
        "colab": {
          "base_uri": "https://localhost:8080/"
        },
        "id": "4F3SguOH9qVS",
        "outputId": "2d813b3c-f2fb-4593-b717-9333af677445"
      },
      "execution_count": 61,
      "outputs": [
        {
          "output_type": "stream",
          "name": "stdout",
          "text": [
            "Average validation accuracy is  0.008909069338798373\n",
            "test accuracy is  0.009893822393822393\n"
          ]
        }
      ]
    },
    {
      "cell_type": "code",
      "source": [
        "solve4(81)"
      ],
      "metadata": {
        "colab": {
          "base_uri": "https://localhost:8080/"
        },
        "id": "Czn4_2s09ryW",
        "outputId": "c948a7a3-2559-439c-c60e-c59a9cb7ba9a"
      },
      "execution_count": 62,
      "outputs": [
        {
          "output_type": "stream",
          "name": "stdout",
          "text": [
            "Average validation accuracy is  0.008585447055482504\n",
            "No. of classes are  3661\n",
            "test accuracy is  0.0\n"
          ]
        }
      ]
    },
    {
      "cell_type": "code",
      "source": [
        "solve3(73)"
      ],
      "metadata": {
        "colab": {
          "base_uri": "https://localhost:8080/"
        },
        "id": "2a2LxI0q9ucK",
        "outputId": "9cc5bc2c-6baa-44a3-fe56-89a987d47741"
      },
      "execution_count": 55,
      "outputs": [
        {
          "output_type": "stream",
          "name": "stdout",
          "text": [
            "Average validation accuracy is  0.008877461136172998\n",
            "test accuracy is  0.009893822393822393\n"
          ]
        }
      ]
    },
    {
      "cell_type": "code",
      "source": [
        "solve4(73)"
      ],
      "metadata": {
        "colab": {
          "base_uri": "https://localhost:8080/"
        },
        "id": "jvf5AY-Z9wny",
        "outputId": "463067f5-c820-4227-ce47-a63d2e55ea3c"
      },
      "execution_count": 56,
      "outputs": [
        {
          "output_type": "stream",
          "name": "stdout",
          "text": [
            "Average validation accuracy is  0.00903182279521009\n",
            "No. of classes are  3661\n",
            "test accuracy is  0.00024131274131274132\n"
          ]
        }
      ]
    },
    {
      "cell_type": "code",
      "source": [
        "solve3(78)"
      ],
      "metadata": {
        "colab": {
          "base_uri": "https://localhost:8080/"
        },
        "id": "wx0UCtAr9yEy",
        "outputId": "ea95c59c-f710-4b71-cb08-3cb34f216366"
      },
      "execution_count": 57,
      "outputs": [
        {
          "output_type": "stream",
          "name": "stdout",
          "text": [
            "Average validation accuracy is  0.008493488810010667\n",
            "test accuracy is  0.009893822393822393\n"
          ]
        }
      ]
    },
    {
      "cell_type": "code",
      "source": [
        "solve4(78)"
      ],
      "metadata": {
        "colab": {
          "base_uri": "https://localhost:8080/"
        },
        "id": "biTn3AlP90pO",
        "outputId": "2f2ac004-15f4-49d4-a089-c6f51c1960c6"
      },
      "execution_count": 58,
      "outputs": [
        {
          "output_type": "stream",
          "name": "stdout",
          "text": [
            "Average validation accuracy is  0.00901083596255365\n",
            "No. of classes are  3661\n",
            "test accuracy is  0.0\n"
          ]
        }
      ]
    },
    {
      "cell_type": "code",
      "source": [
        "solve3(70)\n"
      ],
      "metadata": {
        "colab": {
          "base_uri": "https://localhost:8080/"
        },
        "id": "rMv8XlGb91_5",
        "outputId": "013e2b40-88c1-42cb-b8d3-fa4d1dba619a"
      },
      "execution_count": 59,
      "outputs": [
        {
          "output_type": "stream",
          "name": "stdout",
          "text": [
            "Average validation accuracy is  0.009277810168608824\n",
            "test accuracy is  0.009893822393822393\n"
          ]
        }
      ]
    },
    {
      "cell_type": "code",
      "source": [
        "solve4(70)"
      ],
      "metadata": {
        "colab": {
          "base_uri": "https://localhost:8080/"
        },
        "id": "Kn7pMItq94qK",
        "outputId": "0c0bd423-bd0c-43de-8196-1de9727d39f3"
      },
      "execution_count": 60,
      "outputs": [
        {
          "output_type": "stream",
          "name": "stdout",
          "text": [
            "Average validation accuracy is  0.008757962298083646\n",
            "No. of classes are  3661\n",
            "test accuracy is  0.0\n"
          ]
        }
      ]
    },
    {
      "cell_type": "markdown",
      "source": [
        "Yes , averaging the validation accuracy across multiple splits give more consistent results, especially when the %age allocation of validation dataset is lower ."
      ],
      "metadata": {
        "id": "yJpQw4md_JE9"
      }
    },
    {
      "cell_type": "markdown",
      "source": [
        "Q2)Does it give more accurate estimate of test accuracy?"
      ],
      "metadata": {
        "id": "PPEeo7P3_K6x"
      }
    },
    {
      "cell_type": "markdown",
      "source": [
        "No, It doesn't give much info about the test accuracy . But ,it instead provides a fair idea of how the model might work on Unseen data from same dataset as is used for validation.\n"
      ],
      "metadata": {
        "id": "BoBr-FX-_kFq"
      }
    },
    {
      "cell_type": "markdown",
      "source": [
        "Q3)What is the effect of the number of iterations on the estimate? Do we get a better estimate with higher iterations?"
      ],
      "metadata": {
        "id": "-i344501ABoR"
      }
    },
    {
      "cell_type": "markdown",
      "source": [
        "Yes, It helps to nullify the err in accuracy caused owing to outlier datapoints in the dataset."
      ],
      "metadata": {
        "id": "aTkJlPtVAD32"
      }
    },
    {
      "cell_type": "markdown",
      "source": [
        "Q4)Consider the results you got for the previous questions. Can we deal with a very small train dataset or validation dataset by increasing the iterations?\n"
      ],
      "metadata": {
        "id": "9-2idu3FAT4K"
      }
    },
    {
      "cell_type": "markdown",
      "source": [
        "This might help to a certain extent , but still it might not be able to overcome the unavailability of enough data points , depending upon the application that the ML model is being used for."
      ],
      "metadata": {
        "id": "FqmkQliZAV5K"
      }
    },
    {
      "cell_type": "code",
      "source": [],
      "metadata": {
        "id": "xQhfDkVV-yuG"
      },
      "execution_count": null,
      "outputs": []
    },
    {
      "cell_type": "code",
      "source": [],
      "metadata": {
        "id": "dR7Pb2XJ-Aus"
      },
      "execution_count": null,
      "outputs": []
    }
  ]
}