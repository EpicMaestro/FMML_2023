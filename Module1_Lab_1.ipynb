{
  "nbformat": 4,
  "nbformat_minor": 0,
  "metadata": {
    "colab": {
      "provenance": []
    },
    "kernelspec": {
      "name": "python3",
      "display_name": "Python 3"
    },
    "language_info": {
      "name": "python"
    }
  },
  "cells": [
    {
      "cell_type": "code",
      "execution_count": 65,
      "metadata": {
        "id": "d24rymEanzin"
      },
      "outputs": [],
      "source": [
        "# Q1"
      ]
    },
    {
      "cell_type": "code",
      "source": [
        "# A) String Methods"
      ],
      "metadata": {
        "id": "zMHEDTJrn-Ct"
      },
      "execution_count": 66,
      "outputs": []
    },
    {
      "cell_type": "markdown",
      "source": [],
      "metadata": {
        "id": "TZMAuRPfoDkk"
      }
    },
    {
      "cell_type": "code",
      "source": [
        "a=\"FMML All India\""
      ],
      "metadata": {
        "id": "C0F0FQ_LoCV2"
      },
      "execution_count": 67,
      "outputs": []
    },
    {
      "cell_type": "code",
      "source": [
        "a.lower()"
      ],
      "metadata": {
        "colab": {
          "base_uri": "https://localhost:8080/",
          "height": 36
        },
        "id": "XkAc4i_ZohuG",
        "outputId": "442dbe81-dc8a-49af-a6da-9b4bdab5a168"
      },
      "execution_count": 68,
      "outputs": [
        {
          "output_type": "execute_result",
          "data": {
            "text/plain": [
              "'fmml all india'"
            ],
            "application/vnd.google.colaboratory.intrinsic+json": {
              "type": "string"
            }
          },
          "metadata": {},
          "execution_count": 68
        }
      ]
    },
    {
      "cell_type": "code",
      "source": [
        "a.upper()"
      ],
      "metadata": {
        "colab": {
          "base_uri": "https://localhost:8080/",
          "height": 36
        },
        "id": "OnhR9JKOolr9",
        "outputId": "ebe019c0-9572-4290-dc4d-3f3d39195051"
      },
      "execution_count": 69,
      "outputs": [
        {
          "output_type": "execute_result",
          "data": {
            "text/plain": [
              "'FMML ALL INDIA'"
            ],
            "application/vnd.google.colaboratory.intrinsic+json": {
              "type": "string"
            }
          },
          "metadata": {},
          "execution_count": 69
        }
      ]
    },
    {
      "cell_type": "code",
      "source": [
        "a.capitalize()"
      ],
      "metadata": {
        "colab": {
          "base_uri": "https://localhost:8080/",
          "height": 36
        },
        "id": "_vD0SsDdopLx",
        "outputId": "a9d7de72-da98-4ecf-bf5c-8b73f83a6675"
      },
      "execution_count": 70,
      "outputs": [
        {
          "output_type": "execute_result",
          "data": {
            "text/plain": [
              "'Fmml all india'"
            ],
            "application/vnd.google.colaboratory.intrinsic+json": {
              "type": "string"
            }
          },
          "metadata": {},
          "execution_count": 70
        }
      ]
    },
    {
      "cell_type": "code",
      "source": [
        "a.split(' ')"
      ],
      "metadata": {
        "colab": {
          "base_uri": "https://localhost:8080/"
        },
        "id": "Qx8ewWL-ow_x",
        "outputId": "db486b1b-e524-42f2-a3e7-66f1a9054221"
      },
      "execution_count": 71,
      "outputs": [
        {
          "output_type": "execute_result",
          "data": {
            "text/plain": [
              "['FMML', 'All', 'India']"
            ]
          },
          "metadata": {},
          "execution_count": 71
        }
      ]
    },
    {
      "cell_type": "code",
      "source": [
        "a.count('l')"
      ],
      "metadata": {
        "colab": {
          "base_uri": "https://localhost:8080/"
        },
        "id": "HPP9G3yQowpJ",
        "outputId": "e6766fed-0e7e-4303-c4d8-8aa708556590"
      },
      "execution_count": 72,
      "outputs": [
        {
          "output_type": "execute_result",
          "data": {
            "text/plain": [
              "2"
            ]
          },
          "metadata": {},
          "execution_count": 72
        }
      ]
    },
    {
      "cell_type": "code",
      "source": [
        "# Note that a.count('l') returns 2 and not 4 as output , implying that python is case sensitive"
      ],
      "metadata": {
        "id": "HGQZNcloowLi"
      },
      "execution_count": 73,
      "outputs": []
    },
    {
      "cell_type": "code",
      "source": [
        "# B) List Methods"
      ],
      "metadata": {
        "id": "COF7ffUZovzr"
      },
      "execution_count": 74,
      "outputs": []
    },
    {
      "cell_type": "code",
      "source": [
        "b=['FMML','All','India']\n",
        "b.append('2023')\n",
        "b"
      ],
      "metadata": {
        "colab": {
          "base_uri": "https://localhost:8080/"
        },
        "id": "gDhiWQ_DovVT",
        "outputId": "e5e8b735-5c6b-46df-f132-9b5f6c1ffeaa"
      },
      "execution_count": 75,
      "outputs": [
        {
          "output_type": "execute_result",
          "data": {
            "text/plain": [
              "['FMML', 'All', 'India', '2023']"
            ]
          },
          "metadata": {},
          "execution_count": 75
        }
      ]
    },
    {
      "cell_type": "code",
      "source": [
        "b.reverse()\n",
        "b"
      ],
      "metadata": {
        "colab": {
          "base_uri": "https://localhost:8080/"
        },
        "id": "Iu5r_WOcou4O",
        "outputId": "90b989a9-6f14-43ed-c91b-f778fa130b39"
      },
      "execution_count": 76,
      "outputs": [
        {
          "output_type": "execute_result",
          "data": {
            "text/plain": [
              "['2023', 'India', 'All', 'FMML']"
            ]
          },
          "metadata": {},
          "execution_count": 76
        }
      ]
    },
    {
      "cell_type": "code",
      "source": [
        "b[2].count('l')"
      ],
      "metadata": {
        "colab": {
          "base_uri": "https://localhost:8080/"
        },
        "id": "jSHot9O0ouhU",
        "outputId": "409e87b6-dfba-4d36-b108-8a6d7c4779fa"
      },
      "execution_count": 77,
      "outputs": [
        {
          "output_type": "execute_result",
          "data": {
            "text/plain": [
              "2"
            ]
          },
          "metadata": {},
          "execution_count": 77
        }
      ]
    },
    {
      "cell_type": "code",
      "source": [
        "b.remove(\"All\")\n",
        "b"
      ],
      "metadata": {
        "colab": {
          "base_uri": "https://localhost:8080/"
        },
        "id": "_Y99TR0louFe",
        "outputId": "2b55e35e-9037-4bb8-88c5-c6d59ced76bd"
      },
      "execution_count": 78,
      "outputs": [
        {
          "output_type": "execute_result",
          "data": {
            "text/plain": [
              "['2023', 'India', 'FMML']"
            ]
          },
          "metadata": {},
          "execution_count": 78
        }
      ]
    },
    {
      "cell_type": "code",
      "source": [
        "b.insert(0,'IIITH')\n",
        "b"
      ],
      "metadata": {
        "colab": {
          "base_uri": "https://localhost:8080/"
        },
        "id": "pMGtLM9wotoi",
        "outputId": "35fd3607-8815-4e4b-b4a7-a67d4d5296f5"
      },
      "execution_count": 79,
      "outputs": [
        {
          "output_type": "execute_result",
          "data": {
            "text/plain": [
              "['IIITH', '2023', 'India', 'FMML']"
            ]
          },
          "metadata": {},
          "execution_count": 79
        }
      ]
    },
    {
      "cell_type": "code",
      "source": [
        "# C) Tuples"
      ],
      "metadata": {
        "id": "CPkYOlUCotRB"
      },
      "execution_count": 80,
      "outputs": []
    },
    {
      "cell_type": "code",
      "source": [
        "c=(\"Foundations\",\"Of\",\"Machine\",\"Learning\",\"Of\")"
      ],
      "metadata": {
        "id": "xB2iew9VoszT"
      },
      "execution_count": 81,
      "outputs": []
    },
    {
      "cell_type": "code",
      "source": [
        "c.count(\"Of\")"
      ],
      "metadata": {
        "colab": {
          "base_uri": "https://localhost:8080/"
        },
        "id": "2sHhrw4uosKt",
        "outputId": "8f535e0b-2220-4fb4-c6a1-802e6d1e1467"
      },
      "execution_count": 82,
      "outputs": [
        {
          "output_type": "execute_result",
          "data": {
            "text/plain": [
              "2"
            ]
          },
          "metadata": {},
          "execution_count": 82
        }
      ]
    },
    {
      "cell_type": "code",
      "source": [
        "c.index(\"Of\")"
      ],
      "metadata": {
        "colab": {
          "base_uri": "https://localhost:8080/"
        },
        "id": "I0FRoHWTortI",
        "outputId": "b90831ec-7d54-4716-8605-08a721f9e481"
      },
      "execution_count": 83,
      "outputs": [
        {
          "output_type": "execute_result",
          "data": {
            "text/plain": [
              "1"
            ]
          },
          "metadata": {},
          "execution_count": 83
        }
      ]
    },
    {
      "cell_type": "code",
      "source": [
        "#The first instance of the occurence is returned , when index() method is used"
      ],
      "metadata": {
        "id": "o63zy1e0oq36"
      },
      "execution_count": 84,
      "outputs": []
    },
    {
      "cell_type": "code",
      "source": [
        "c[0].lower()"
      ],
      "metadata": {
        "colab": {
          "base_uri": "https://localhost:8080/",
          "height": 36
        },
        "id": "QJK8oYGZoqK9",
        "outputId": "6f28b94e-0674-4a5f-abdf-1f1a85efe0aa"
      },
      "execution_count": 85,
      "outputs": [
        {
          "output_type": "execute_result",
          "data": {
            "text/plain": [
              "'foundations'"
            ],
            "application/vnd.google.colaboratory.intrinsic+json": {
              "type": "string"
            }
          },
          "metadata": {},
          "execution_count": 85
        }
      ]
    },
    {
      "cell_type": "code",
      "source": [
        "c[0]+\" \"+c[1]"
      ],
      "metadata": {
        "colab": {
          "base_uri": "https://localhost:8080/",
          "height": 36
        },
        "id": "kf7W0wL2opuh",
        "outputId": "624c1aa1-096a-45ba-fd62-14666174b997"
      },
      "execution_count": 86,
      "outputs": [
        {
          "output_type": "execute_result",
          "data": {
            "text/plain": [
              "'Foundations Of'"
            ],
            "application/vnd.google.colaboratory.intrinsic+json": {
              "type": "string"
            }
          },
          "metadata": {},
          "execution_count": 86
        }
      ]
    },
    {
      "cell_type": "code",
      "source": [
        "c=c*2\n",
        "c"
      ],
      "metadata": {
        "colab": {
          "base_uri": "https://localhost:8080/"
        },
        "id": "A1f4t1aNon7_",
        "outputId": "e2d6cb94-a0f0-4b92-f7bb-43c6d6190aed"
      },
      "execution_count": 87,
      "outputs": [
        {
          "output_type": "execute_result",
          "data": {
            "text/plain": [
              "('Foundations',\n",
              " 'Of',\n",
              " 'Machine',\n",
              " 'Learning',\n",
              " 'Of',\n",
              " 'Foundations',\n",
              " 'Of',\n",
              " 'Machine',\n",
              " 'Learning',\n",
              " 'Of')"
            ]
          },
          "metadata": {},
          "execution_count": 87
        }
      ]
    },
    {
      "cell_type": "code",
      "source": [
        "c[0].split(\"o\")"
      ],
      "metadata": {
        "colab": {
          "base_uri": "https://localhost:8080/"
        },
        "id": "9BIENzhoonAY",
        "outputId": "373a0590-8539-4f3c-c088-e6ce7e5b52d5"
      },
      "execution_count": 88,
      "outputs": [
        {
          "output_type": "execute_result",
          "data": {
            "text/plain": [
              "['F', 'undati', 'ns']"
            ]
          },
          "metadata": {},
          "execution_count": 88
        }
      ]
    },
    {
      "cell_type": "code",
      "source": [
        "# D)Sets"
      ],
      "metadata": {
        "id": "Zk2afltSpn5M"
      },
      "execution_count": 89,
      "outputs": []
    },
    {
      "cell_type": "code",
      "source": [
        "d=set()\n",
        "d.add(89)\n",
        "d.add(78)\n",
        "d.add(81)\n",
        "d.add(89)\n",
        "d"
      ],
      "metadata": {
        "colab": {
          "base_uri": "https://localhost:8080/"
        },
        "id": "2eUxSe12pobS",
        "outputId": "a099c01f-a55f-40f6-b3a4-5220d17e7115"
      },
      "execution_count": 90,
      "outputs": [
        {
          "output_type": "execute_result",
          "data": {
            "text/plain": [
              "{78, 81, 89}"
            ]
          },
          "metadata": {},
          "execution_count": 90
        }
      ]
    },
    {
      "cell_type": "code",
      "source": [
        "#Herein , the element 89 though added twice is added only once to the set\n",
        "#Also , although 81 was added later , It was the in-between element in theset .\n",
        "#In Jupyter Notebook , the elements are arranged in ascending order"
      ],
      "metadata": {
        "id": "aW5klDU3po3S"
      },
      "execution_count": 91,
      "outputs": []
    },
    {
      "cell_type": "code",
      "source": [
        "lst=[81,78,109,'Hi',True]\n",
        "var1=set(lst)\n",
        "var1"
      ],
      "metadata": {
        "colab": {
          "base_uri": "https://localhost:8080/"
        },
        "id": "wfHoRuQwppOj",
        "outputId": "7a0072d2-0f31-4b12-c57b-4668ceb2c9a1"
      },
      "execution_count": 92,
      "outputs": [
        {
          "output_type": "execute_result",
          "data": {
            "text/plain": [
              "{109, 78, 81, 'Hi', True}"
            ]
          },
          "metadata": {},
          "execution_count": 92
        }
      ]
    },
    {
      "cell_type": "code",
      "source": [
        "var2={'Hi','India','We','are','back'}\n",
        "var3={'Hi','India','FMML COurse','is','back'}\n",
        "var2.difference(var3)"
      ],
      "metadata": {
        "colab": {
          "base_uri": "https://localhost:8080/"
        },
        "id": "YPueO-XDpqBE",
        "outputId": "44660404-c783-405e-ae58-b6e5665cdfec"
      },
      "execution_count": 93,
      "outputs": [
        {
          "output_type": "execute_result",
          "data": {
            "text/plain": [
              "{'We', 'are'}"
            ]
          },
          "metadata": {},
          "execution_count": 93
        }
      ]
    },
    {
      "cell_type": "code",
      "source": [
        "var2"
      ],
      "metadata": {
        "colab": {
          "base_uri": "https://localhost:8080/"
        },
        "id": "NQa-uY8apqaT",
        "outputId": "1c995de2-7190-45b4-f3b1-02c2d603b295"
      },
      "execution_count": 94,
      "outputs": [
        {
          "output_type": "execute_result",
          "data": {
            "text/plain": [
              "{'Hi', 'India', 'We', 'are', 'back'}"
            ]
          },
          "metadata": {},
          "execution_count": 94
        }
      ]
    },
    {
      "cell_type": "code",
      "source": [
        "var2={'Hi','India','We','are','back'}\n",
        "var3={'Hi','India','FMML COurse','is','back'}\n",
        "var2.difference_update(var3)"
      ],
      "metadata": {
        "id": "4CHTMRw7pqx4"
      },
      "execution_count": 95,
      "outputs": []
    },
    {
      "cell_type": "code",
      "source": [
        "var2"
      ],
      "metadata": {
        "colab": {
          "base_uri": "https://localhost:8080/"
        },
        "id": "jrIJGc8tprlO",
        "outputId": "d1199c51-eefa-4563-fe28-eefa219b85f7"
      },
      "execution_count": 96,
      "outputs": [
        {
          "output_type": "execute_result",
          "data": {
            "text/plain": [
              "{'We', 'are'}"
            ]
          },
          "metadata": {},
          "execution_count": 96
        }
      ]
    },
    {
      "cell_type": "code",
      "source": [
        "#in difference() method , the actual set is not altered ,whereas in difference_update() , it is"
      ],
      "metadata": {
        "id": "cVFpBrkopsBu"
      },
      "execution_count": 97,
      "outputs": []
    },
    {
      "cell_type": "code",
      "source": [
        "var3.clear()\n",
        "var3"
      ],
      "metadata": {
        "colab": {
          "base_uri": "https://localhost:8080/"
        },
        "id": "SzhPOOp4psdM",
        "outputId": "638b95e9-9b9f-4aee-feda-d3c4f5885fe9"
      },
      "execution_count": 98,
      "outputs": [
        {
          "output_type": "execute_result",
          "data": {
            "text/plain": [
              "set()"
            ]
          },
          "metadata": {},
          "execution_count": 98
        }
      ]
    },
    {
      "cell_type": "code",
      "source": [
        "var1.discard('Hi')\n",
        "var1"
      ],
      "metadata": {
        "colab": {
          "base_uri": "https://localhost:8080/"
        },
        "id": "MdflHJCOps1y",
        "outputId": "7e78cf47-6ee4-491f-ea56-bd3b6b65b01f"
      },
      "execution_count": 99,
      "outputs": [
        {
          "output_type": "execute_result",
          "data": {
            "text/plain": [
              "{True, 78, 81, 109}"
            ]
          },
          "metadata": {},
          "execution_count": 99
        }
      ]
    },
    {
      "cell_type": "code",
      "source": [
        "# E) Dictionary\n"
      ],
      "metadata": {
        "id": "UgVSCYffpti9"
      },
      "execution_count": 100,
      "outputs": []
    },
    {
      "cell_type": "code",
      "source": [
        "e={'Linear Algebra':'Maths','Coordination Compounds':'Chemistry','NLM':'Physics','Cell Biology':'Biology'}"
      ],
      "metadata": {
        "id": "VJV6cVfNpt8P"
      },
      "execution_count": 101,
      "outputs": []
    },
    {
      "cell_type": "code",
      "source": [
        "e.get('NLM')"
      ],
      "metadata": {
        "colab": {
          "base_uri": "https://localhost:8080/",
          "height": 36
        },
        "id": "x08NhfSvpuRA",
        "outputId": "aa6cfc2f-f49a-4c48-eb09-795c7a477cdd"
      },
      "execution_count": 102,
      "outputs": [
        {
          "output_type": "execute_result",
          "data": {
            "text/plain": [
              "'Physics'"
            ],
            "application/vnd.google.colaboratory.intrinsic+json": {
              "type": "string"
            }
          },
          "metadata": {},
          "execution_count": 102
        }
      ]
    },
    {
      "cell_type": "code",
      "source": [
        "e.get('SHM')"
      ],
      "metadata": {
        "id": "ynW6_bWqpuh8"
      },
      "execution_count": 103,
      "outputs": []
    },
    {
      "cell_type": "code",
      "source": [
        "e.keys()"
      ],
      "metadata": {
        "colab": {
          "base_uri": "https://localhost:8080/"
        },
        "id": "x5V6G9x6pvRW",
        "outputId": "56d95c39-2b8d-43ad-f61b-dedce5d2e0d2"
      },
      "execution_count": 104,
      "outputs": [
        {
          "output_type": "execute_result",
          "data": {
            "text/plain": [
              "dict_keys(['Linear Algebra', 'Coordination Compounds', 'NLM', 'Cell Biology'])"
            ]
          },
          "metadata": {},
          "execution_count": 104
        }
      ]
    },
    {
      "cell_type": "code",
      "source": [
        "e.values()"
      ],
      "metadata": {
        "colab": {
          "base_uri": "https://localhost:8080/"
        },
        "id": "LdgF_b60pvgS",
        "outputId": "e779082e-2e9f-4b00-c6d4-cac132b46eaf"
      },
      "execution_count": 105,
      "outputs": [
        {
          "output_type": "execute_result",
          "data": {
            "text/plain": [
              "dict_values(['Maths', 'Chemistry', 'Physics', 'Biology'])"
            ]
          },
          "metadata": {},
          "execution_count": 105
        }
      ]
    },
    {
      "cell_type": "code",
      "source": [
        "e.items()"
      ],
      "metadata": {
        "colab": {
          "base_uri": "https://localhost:8080/"
        },
        "id": "mYMVTxsYpwKt",
        "outputId": "1e26fb06-66e6-4888-d478-06dac7865723"
      },
      "execution_count": 106,
      "outputs": [
        {
          "output_type": "execute_result",
          "data": {
            "text/plain": [
              "dict_items([('Linear Algebra', 'Maths'), ('Coordination Compounds', 'Chemistry'), ('NLM', 'Physics'), ('Cell Biology', 'Biology')])"
            ]
          },
          "metadata": {},
          "execution_count": 106
        }
      ]
    },
    {
      "cell_type": "code",
      "source": [
        "e.pop('Cell Biology')\n",
        "e"
      ],
      "metadata": {
        "colab": {
          "base_uri": "https://localhost:8080/"
        },
        "id": "IjyxiXxUpwjM",
        "outputId": "849ae876-a394-4eb7-b8f0-45f602dbe591"
      },
      "execution_count": 107,
      "outputs": [
        {
          "output_type": "execute_result",
          "data": {
            "text/plain": [
              "{'Linear Algebra': 'Maths',\n",
              " 'Coordination Compounds': 'Chemistry',\n",
              " 'NLM': 'Physics'}"
            ]
          },
          "metadata": {},
          "execution_count": 107
        }
      ]
    },
    {
      "cell_type": "code",
      "source": [
        "# Q1\n"
      ],
      "metadata": {
        "id": "qv4grmpBpxO5"
      },
      "execution_count": 108,
      "outputs": []
    },
    {
      "cell_type": "code",
      "source": [
        "def RnA(A,B):\n",
        "    revA = A[::-1]\n",
        "    res=revA+B\n",
        "    return res\n",
        "A1 = \"FMML\"\n",
        "B1 = \"India\"\n",
        "C=RnA(A1,B1)\n",
        "print(C)"
      ],
      "metadata": {
        "colab": {
          "base_uri": "https://localhost:8080/"
        },
        "id": "p8pcYkeDpxiP",
        "outputId": "91ca999d-1252-4b5e-de58-d33292993951"
      },
      "execution_count": 109,
      "outputs": [
        {
          "output_type": "stream",
          "name": "stdout",
          "text": [
            "LMMFIndia\n"
          ]
        }
      ]
    },
    {
      "cell_type": "code",
      "source": [
        "# Q2\n"
      ],
      "metadata": {
        "id": "4sLkiztlpxyJ"
      },
      "execution_count": 110,
      "outputs": []
    },
    {
      "cell_type": "code",
      "source": [
        "work_hours = [('Abby',100 , 'F'),('Billy',400, 'M'),('Cassie',800,'F'), ('Maggi',600,'F'),('Alex',500,'M'),('Raj',225,'M'),('Penny',920,'F'),('Ben',300,'M')]"
      ],
      "metadata": {
        "id": "SqffMZ2BpyCN"
      },
      "execution_count": 111,
      "outputs": []
    },
    {
      "cell_type": "code",
      "source": [
        "def Fem_max(work_hours, pay_rate=20):\n",
        "    # Initialising  variables\n",
        "    maxval = 0\n",
        "    max_fem = None\n",
        "\n",
        "\n",
        "    for name, hours, gender in work_hours:\n",
        "        if gender == 'F':\n",
        "            if hours > maxval:\n",
        "                maxval = hours\n",
        "                max_fem = name\n",
        "\n",
        "    # Calculate the payment for the female worker with the most hours\n",
        "    if max_fem is not None:\n",
        "        payment = maxval * pay_rate\n",
        "        return max_fem, payment\n",
        "    else:\n",
        "        return \"No female workers found in the list.\"\n",
        "result = Fem_max(work_hours)\n",
        "if result != \"No female workers found in the list.\":\n",
        "    name, payment = result\n",
        "    print(f\"The female worker who worked the most hours is {name} with {payment} dollars in payment.\")\n",
        "else:\n",
        "    print(result)"
      ],
      "metadata": {
        "colab": {
          "base_uri": "https://localhost:8080/"
        },
        "id": "CnpFklWTpylv",
        "outputId": "fbabb375-a51d-4de8-ef9d-e19db0dad41e"
      },
      "execution_count": 112,
      "outputs": [
        {
          "output_type": "stream",
          "name": "stdout",
          "text": [
            "The female worker who worked the most hours is Penny with 18400 dollars in payment.\n"
          ]
        }
      ]
    },
    {
      "cell_type": "code",
      "source": [
        "# Q3\n"
      ],
      "metadata": {
        "id": "W3cTeeIepziU"
      },
      "execution_count": 113,
      "outputs": []
    },
    {
      "cell_type": "code",
      "source": [
        "import numpy as np\n",
        "row1 = np.hstack([1] * 5)\n",
        "row2 = np.hstack([2] * 5)\n",
        "row3 = np.hstack([3] * 5)\n",
        "row4 = np.hstack([4] * 5)\n",
        "row5 = np.hstack([5] * 5)\n",
        "matrix1 = np.vstack([row1, row2, row3, row4, row5])\n",
        "\n",
        "print(matrix1)\n"
      ],
      "metadata": {
        "colab": {
          "base_uri": "https://localhost:8080/"
        },
        "id": "RXcHqiRmp0RG",
        "outputId": "c5576e34-789f-40e4-b042-c53ea88966a7"
      },
      "execution_count": 114,
      "outputs": [
        {
          "output_type": "stream",
          "name": "stdout",
          "text": [
            "[[1 1 1 1 1]\n",
            " [2 2 2 2 2]\n",
            " [3 3 3 3 3]\n",
            " [4 4 4 4 4]\n",
            " [5 5 5 5 5]]\n"
          ]
        }
      ]
    },
    {
      "cell_type": "code",
      "source": [
        "B = np.array([[1, 2, 3],\n",
        "              [4, 5, 6],\n",
        "              [7, 8, 9],\n",
        "              [10, 11, 12],\n",
        "              [13, 14, 15]])\n",
        "c=np.dot(matrix1,B)\n",
        "c"
      ],
      "metadata": {
        "colab": {
          "base_uri": "https://localhost:8080/"
        },
        "id": "zvFf1pMBp0i0",
        "outputId": "13e925ed-35a1-4d7f-c4d5-973305f0bb05"
      },
      "execution_count": 115,
      "outputs": [
        {
          "output_type": "execute_result",
          "data": {
            "text/plain": [
              "array([[ 35,  40,  45],\n",
              "       [ 70,  80,  90],\n",
              "       [105, 120, 135],\n",
              "       [140, 160, 180],\n",
              "       [175, 200, 225]])"
            ]
          },
          "metadata": {},
          "execution_count": 115
        }
      ]
    },
    {
      "cell_type": "code",
      "source": [
        "c.shape"
      ],
      "metadata": {
        "colab": {
          "base_uri": "https://localhost:8080/"
        },
        "id": "KHoGXz_Vp0xL",
        "outputId": "94a6dfbc-1c87-4afc-be4e-bc1a7f5ac083"
      },
      "execution_count": 116,
      "outputs": [
        {
          "output_type": "execute_result",
          "data": {
            "text/plain": [
              "(5, 3)"
            ]
          },
          "metadata": {},
          "execution_count": 116
        }
      ]
    },
    {
      "cell_type": "code",
      "source": [
        "from google.colab import drive\n",
        "drive.mount('/content/drive')"
      ],
      "metadata": {
        "colab": {
          "base_uri": "https://localhost:8080/"
        },
        "id": "4pWqU6Jap2Y_",
        "outputId": "4d3d97d5-06e2-454f-8a81-ad6be76dbada"
      },
      "execution_count": 117,
      "outputs": [
        {
          "output_type": "stream",
          "name": "stdout",
          "text": [
            "Mounted at /content/drive\n"
          ]
        }
      ]
    },
    {
      "cell_type": "code",
      "source": [
        "import matplotlib.pyplot as plt\n",
        "import matplotlib.image as mpimg\n",
        "image_path = '/content/drive/My Drive/Lab Assignment 1'\n",
        "img = mpimg.imread(image_path)\n",
        "plt.imshow(img)\n",
        "plt.show()"
      ],
      "metadata": {
        "colab": {
          "base_uri": "https://localhost:8080/",
          "height": 347
        },
        "id": "zSE2voCOp2ri",
        "outputId": "9d4cd14e-d4ac-40f4-9f4f-5d299a110a9c"
      },
      "execution_count": 119,
      "outputs": [
        {
          "output_type": "display_data",
          "data": {
            "text/plain": [
              "<Figure size 640x480 with 1 Axes>"
            ],
            "image/png": "[encoded data removed]"
          },
          "metadata": {}
        }
      ]
    },
    {
      "cell_type": "code",
      "source": [],
      "metadata": {
        "id": "YSpVYBK5p3oE"
      },
      "execution_count": 117,
      "outputs": []
    },
    {
      "cell_type": "code",
      "source": [],
      "metadata": {
        "id": "9P2psvrdp4E5"
      },
      "execution_count": 117,
      "outputs": []
    },
    {
      "cell_type": "code",
      "source": [],
      "metadata": {
        "id": "ZgzIalR8p4WO"
      },
      "execution_count": 117,
      "outputs": []
    },
    {
      "cell_type": "code",
      "source": [],
      "metadata": {
        "id": "7K6HKg_Fp40c"
      },
      "execution_count": 117,
      "outputs": []
    },
    {
      "cell_type": "code",
      "source": [],
      "metadata": {
        "id": "ZuIgQvA8p5Hg"
      },
      "execution_count": 117,
      "outputs": []
    },
    {
      "cell_type": "code",
      "source": [],
      "metadata": {
        "id": "1j7QZKsfpm_v"
      },
      "execution_count": 117,
      "outputs": []
    },
    {
      "cell_type": "code",
      "source": [],
      "metadata": {
        "id": "kOxl8uEspmGT"
      },
      "execution_count": 117,
      "outputs": []
    }
  ]
}